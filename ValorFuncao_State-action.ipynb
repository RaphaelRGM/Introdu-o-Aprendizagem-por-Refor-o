{
 "cells": [
  {
   "cell_type": "markdown",
   "metadata": {},
   "source": [
    "# Introdução à Aprendizagem por Reforço\n",
    "\n",
    "Esta é uma aula introdutória aos conceitos fundamentais à Aprendizagem por Reforço (Reinforcement learning).\n",
    "\n",
    "[Prof. Raphael](https://www.linkedin.com/in/raphaelgarciamoreira/)"
   ]
  },
  {
   "cell_type": "markdown",
   "id": "94ddaea0",
   "metadata": {},
   "source": [
    "### Primeiras façanhas com aplicações interessantes\n",
    "\n",
    "[Stanford Autonomous Helicopter - Airshow #1 - Julho de 2008](https://youtu.be/0JL04JJjocc?si=ir2LsV-UtxglpOO4)\n",
    "\n",
    "[Autonomous Helicopters Teach Themselves to Fly Stunts, Andrew NG, Stanford - Agosto de 2008](https://youtu.be/M-QUkgk3HyE?si=NSPWKcSDqY8d2MFt)\n",
    "\n",
    "[New dog-like robot from Boston Dynamics can open doors, Guardian News - Fevereiro de 2018](https://youtu.be/wXxrmussq4E?si=0ZqsxthSEhh34Hp5)"
   ]
  },
  {
   "cell_type": "markdown",
   "id": "8aab7eae",
   "metadata": {},
   "source": [
    "### NASA Subsonic Single Aft Engine (SUSAN) Electrofan Aircraft Concept\n",
    "[Assista ao vídeo: Conceito de aeronave ventilador elétrico/turbina elétrica com motor subsônico de popa único](https://youtu.be/RaEzL4VvfTA?si=rfTXgjfnMdsx6hrI)\n",
    "\n",
    "\n",
    "SUSAN refere-se a um conceito avançado de aeronave híbrida-elétrica projetada para reduzir os níveis de emissão e melhorar a eficiência de combustível em aeronaves da categoria de transporte. A configuração inovadora da aeronave da SUSAN opera usando um sistema Electrified Aircraft Propulsion (EAP) de 20 MW com um trem de força híbrido apresentando um único motor turbofan traseiro e vários motores elétricos distribuídos montados nas asas.\n",
    "\n",
    "O projeto conta com sistema de controle baseados em `Aprendizagem por Reforço`.\n",
    "\n",
    "O desafio abordado no artigo é o controle eficiente em situações de `falha de wingfans` (motores elétricos nas asas acionando as turbinas). Para isso, são investigadas técnicas de aprendizado de máquina, especificamente o uso de aprendizado por reforço (RL), em dois cenários críticos: curva coordenada e voo reto nivelado com falha de wingfan. O RL oferece a capacidade de descobrir automaticamente padrões a partir de dados, sem a necessidade de projeto manual do sistema e conhecimento especializado. \n",
    "\n",
    "\n",
    "\n",
    " [Clique aqui para ler o artigo da NASA publicado em Novembro/2023 sobre o uso Aprendizagem por Reforço nos aviões híbridos.](https://ntrs.nasa.gov/api/citations/20230014863/downloads/TM-20230014863.pdf)\n",
    "\n",
    "<p align=\"center\">\n",
    "  <img src=\"https://www.grc.nasa.gov/www/k-12/airplane/Images/airplane.gif\" alt=\"NASA Airplane\">\n",
    "</p>\n",
    "\n",
    "\n",
    "[Vídeo do projeto: NASA Subsonic Single Aft Engine (SUSAN) Electrofan Aircraft Concept](https://youtu.be/RaEzL4VvfTA?si=LSSkljMHUmBIU2w1)\n"
   ]
  },
  {
   "cell_type": "markdown",
   "id": "3bbc72fc",
   "metadata": {},
   "source": [
    "### Desafio\n",
    "\n",
    "Em termos de Reinforcement Learning (RL), o texto descreve uma simulação de falha em um wingfan em uma aeronave. Essa falha é considerada um cenário crítico para a controlabilidade lateral, sendo que a aeronave depende do sistema de controle de voo para lidar com essa situação. Sem um sistema de realocação de impulso, o impulso alocado para o wingfan com falha é perdido, e a resposta da aeronave à falha é discutida em termos de estabilidade e eficácia."
   ]
  },
  {
   "cell_type": "markdown",
   "id": "fd0a6de6",
   "metadata": {},
   "source": [
    "### Modelagem de Aprendizagem por Reforço para o projeto SUSAN\n",
    "\n",
    "<p align=\"center\">\n",
    "  <img src=\"Imagens/Img01.jpg\">\n",
    "</p>"
   ]
  },
  {
   "cell_type": "markdown",
   "id": "8533a2be",
   "metadata": {},
   "source": [
    "#### Nomenclatura para as variáveis e parâmetros do projeto SUSAN da NASA.\n",
    "\n",
    "| Sigla/Abreviação | Significado                                       | Tradução em Português                             |\n",
    "|-------------------|---------------------------------------------------|----------------------------------------------------|\n",
    "| SUSAN             | Subsonic Single Aft eNgine                        | Motor Único Subsônico Aft                        |\n",
    "| DEP               | Distributed Electric Propulsion                   | Propulsão Elétrica Distribuída                    |\n",
    "| PID               | Proportional-Integral-Derivative                  | Proporcional-Integral-Derivativo                  |\n",
    "| cmd               | command                                           | comando                                            |\n",
    "| 𝛿                | delta                                             | delta                                              |\n",
    "| T                 | thrust [lbf]                                      | impulso [lbf]                                      |\n",
    "| dT                | differential Thrust [lbf]                         | impulso diferencial [lbf]                         |\n",
    "| (𝜙, 𝜃, 𝜓)         | roll, pitch, and yaw, respectively [deg]          | rotação, inclinação e guinada, respectivamente [deg] |\n",
    "| (𝜙̇, 𝜃̇, 𝜓̇)       | roll rate, pitch rate, and yaw rate, respectively [deg/s] | taxa de rotação, taxa de inclinação e taxa de guinada, respectivamente [deg/s] |\n",
    "| (𝜙̈, 𝜃̈, 𝜓̈)       | roll acceleration, pitch acceleration, and yaw acceleration, respectively [deg/s²] | aceleração de rotação, aceleração de inclinação e aceleração de guinada, respectivamente [deg/s²] |\n",
    "| 𝛽                | sideslip [deg]                                    | derrapagem lateral [deg]                          |\n",
    "| RL                | Reinforcement Learning                            | Aprendizado por Reforço                           |\n",
    "| PPO               | Proximal Policy Optimization                      | Otimização de Política Próxima                    |\n",
    "| SAC               | Soft Actor Critic                                 | Ator Suave Crítico                                |\n",
    "| TD3               | Twin Delayed Deep Deterministic Policy Gradient   | Gradiente de Política Determinística Profunda e Dupla Atrasada |\n",
    "| t                 | time [s]                                          | tempo [s]                                         |\n",
    "| 𝑎 ∈ 𝐴            | action vector ∈ action space                      | vetor de ação ∈ espaço de ação                    |\n",
    "| 𝑠 ∈ 𝑆            | state vector ∈ state space                        | vetor de estado ∈ espaço de estado                 |\n",
    "| 𝑟                | reward                                            | recompensa                                         |\n",
    "| γ                | discount factor                                   | fator de desconto                                  |\n",
    "| 𝜋                | policy function                                   | função de política                                 |\n",
    "| 𝜃                | parameters of policy function                     | parâmetros da função de política                   |\n",
    "| 𝐿                | clipped surrogate objective function              | função objetivo de substituição limitada          |\n"
   ]
  },
  {
   "cell_type": "markdown",
   "id": "70169fa4",
   "metadata": {},
   "source": [
    "### Abordagem por Aprendizagem por Reforço\n",
    "\n",
    "| **falha em um wingfan** → **melhor ação de estabilização da aeronave** |\n",
    "| ---------------------------------------------------------------------- |\n",
    "\n",
    "| **estado s** → **ação a**                                            |\n",
    "| --------------------------------------------------------------------- |\n",
    "\n",
    "| <span style=\"color:red;\">**x** → **y**</span>                        |\n",
    "| --------------------------------------------------------------------- |\n",
    "\n",
    "<p align=\"left\">\n",
    "  <span style=\"color:green;\">Função de Recompensa (Reward Function)</span>\n",
    "</p>\n"
   ]
  },
  {
   "cell_type": "code",
   "execution_count": 1,
   "metadata": {},
   "outputs": [],
   "source": [
    "import numpy as np\n",
    "from utilidades import *"
   ]
  },
  {
   "cell_type": "code",
   "execution_count": 2,
   "metadata": {},
   "outputs": [],
   "source": [
    "# Não altere\n",
    "num_states = 6\n",
    "num_actions = 2"
   ]
  },
  {
   "cell_type": "code",
   "execution_count": 3,
   "metadata": {},
   "outputs": [],
   "source": [
    "terminal_left_reward = 200\n",
    "terminal_right_reward = 80\n",
    "each_step_reward = 0\n",
    "\n",
    "# Fator de desconto (Discount factor)\n",
    "gamma = 0.5\n",
    "\n",
    "# Probabilidade de ir na direção errada\n",
    "misstep_prob = 0"
   ]
  },
  {
   "cell_type": "code",
   "execution_count": 4,
   "metadata": {},
   "outputs": [
    {
     "data": {
      "image/png": "[encoded data removed]",
      "text/plain": [
       "<Figure size 1200x200 with 1 Axes>"
      ]
     },
     "metadata": {},
     "output_type": "display_data"
    },
    {
     "data": {
      "image/png": "[encoded data removed]",
      "text/plain": [
       "<Figure size 1800x200 with 1 Axes>"
      ]
     },
     "metadata": {},
     "output_type": "display_data"
    }
   ],
   "source": [
    "generate_visualization(terminal_left_reward, terminal_right_reward,\n",
    "                       each_step_reward, gamma, misstep_prob)"
   ]
  },
  {
   "cell_type": "markdown",
   "id": "61bcc99a",
   "metadata": {},
   "source": [
    "### A função retorno é dada por\n",
    "\n",
    "\\begin{align*}\n",
    "Retorno &= γ^0 \\cdot R_1 + γ^1 \\cdot R_2 + γ^2 \\cdot R_3 + γ^3 \\cdot R_4 + ...\n",
    "\\end{align*}\n",
    "\n",
    "Onde:\n",
    "\n",
    "$R_x$ é a recompensa (reward) de cada estado \n",
    "\n",
    "γ é o fator desconto (Gamma)\n",
    "\n",
    "\n"
   ]
  },
  {
   "cell_type": "markdown",
   "id": "cfe47b64",
   "metadata": {},
   "source": [
    "| Categoria            | Jogo de Xadrez                 | Avião Guiado  (SUSAN, exemplo)                  | Smiles de Volatilidade              |\n",
    "| -------------------- | ------------------------------ | ------------------------------- | ------------------------------- |\n",
    "| Estados (States)     | Posições no tabuleiro          | Parâmetros de voo (altitude, velocidade, etc.) |  |\n",
    "| Ações (Actions)      | Movimentos de peças            | Controles de voo (ailerons, leme, etc.) |  |\n",
    "| Recompensas (Rewards)| Pontuação da partida           | Desempenho da manobra, estabilização durante falhas, etc. |  |\n",
    "| Fator de Desconto (γ)   | Geralmente próximo a 1         | Ajustável com base na tarefa específica |  |\n",
    "| Retorno (Return)     | Soma das pontuações da partida | Soma das recompensas de estabilização |  |\n",
    "| Política π (Policy π)| Estratégia de movimentos        | Estratégia de controle de voo   |  |\n"
   ]
  }
 ],
 "metadata": {
  "kernelspec": {
   "display_name": "Python 3",
   "language": "python",
   "name": "python3"
  },
  "language_info": {
   "codemirror_mode": {
    "name": "ipython",
    "version": 3
   },
   "file_extension": ".py",
   "mimetype": "text/x-python",
   "name": "python",
   "nbconvert_exporter": "python",
   "pygments_lexer": "ipython3",
   "version": "3.11.5"
  }
 },
 "nbformat": 4,
 "nbformat_minor": 5
}
